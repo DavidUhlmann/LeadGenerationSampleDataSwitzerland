{
 "cells": [
  {
   "cell_type": "code",
   "execution_count": 222,
   "id": "younger-leisure",
   "metadata": {},
   "outputs": [],
   "source": [
    "import pandas as pd\n",
    "import numpy as np\n",
    "import random\n",
    "from random import randrange"
   ]
  },
  {
   "cell_type": "code",
   "execution_count": 223,
   "id": "positive-norman",
   "metadata": {},
   "outputs": [],
   "source": [
    "# create the relevant dataframes\n",
    "df_geodaten = pd.read_csv(\"Orte Schweiz.csv\")\n",
    "df_geodaten.PLZ = df_geodaten.PLZ.astype(int)\n",
    "\n",
    "df_emaildomains = pd.read_csv(\"Emaildomains - Emaildomains.csv\")\n",
    "df_vornamen_frauen = pd.read_csv(\"Vornamen_Frauen - Sheet1.csv\")\n",
    "df_vornamen_männer = pd.read_csv(\"Vornamen_Männer - Sheet1.csv\")\n",
    "df_nachnamen = pd.read_csv(\"Nachnamen - Nachnamen.csv\")\n",
    "\n",
    "# Import all the streetnames given\n",
    "df_strassen_zh = pd.read_csv(\"Strassennamen_Zurich.csv\", names=['Strassennamen'])\n",
    "df_strassen_be = pd.read_csv(\"Strassennamen_Bern.csv\", names=['Strassennamen'])\n",
    "df_strassen_bs = pd.read_csv(\"Strassennamen_Basel.csv\", names=['Strassennamen'])\n",
    "df_strassen_lu = pd.read_csv(\"Strassennamen_Luzern.csv\", names=['Strassennamen'])\n",
    "df_strassen_ge = pd.read_csv(\"Strassennamen_Genève.csv\", names=['Strassennamen'])\n",
    "df_strassen_sg = pd.read_csv(\"Strassennamen_St.Gallen.csv\", names=['Strassennamen'])"
   ]
  },
  {
   "cell_type": "code",
   "execution_count": 224,
   "id": "through-footage",
   "metadata": {},
   "outputs": [],
   "source": [
    "#limits that you want to use in terms of output\n",
    "limit_datarecords = 1000000 # how many fictional people do we want to create\n",
    "street_range = 200\n",
    "city_filter = [\"Zürich\", \"Bern\", \"Luzern\", \"Basel\", \"Genève\", \"St. Gallen\"] #cities we use (for now)"
   ]
  },
  {
   "cell_type": "code",
   "execution_count": 225,
   "id": "quality-hamburg",
   "metadata": {},
   "outputs": [],
   "source": [
    "# Manipulations to get certain lists needed for this\n",
    "list_emaildomains = df_emaildomains[\"Domain\"].tolist()"
   ]
  },
  {
   "cell_type": "code",
   "execution_count": 226,
   "id": "several-maintenance",
   "metadata": {},
   "outputs": [],
   "source": [
    "# Filter the dataframe to the four mentioned cities\n",
    "df_filtered_geodata = df_geodaten[(df_geodaten[\"Gemeindename\"]==city_filter[0])\n",
    "                                | (df_geodaten[\"Gemeindename\"]==city_filter[1])\n",
    "                                | (df_geodaten[\"Gemeindename\"]==city_filter[2])\n",
    "                                | (df_geodaten[\"Gemeindename\"]==city_filter[3])\n",
    "                                | (df_geodaten[\"Gemeindename\"]==city_filter[4])\n",
    "                                | (df_geodaten[\"Gemeindename\"]==city_filter[5])]"
   ]
  },
  {
   "cell_type": "code",
   "execution_count": 227,
   "id": "optical-charger",
   "metadata": {},
   "outputs": [],
   "source": [
    "number_lines = df_filtered_geodata.shape[0]\n",
    "repeater = int(round((limit_datarecords/number_lines), 0))"
   ]
  },
  {
   "cell_type": "code",
   "execution_count": 228,
   "id": "environmental-thing",
   "metadata": {},
   "outputs": [],
   "source": [
    "# combine streets \n",
    "filtered_orte = set(df_filtered_geodata.Ort.tolist())\n",
    "filtered_plz = set(df_filtered_geodata.PLZ.tolist())\n",
    "\n",
    "# combine all street names into a large list \n",
    "list_strassen = []\n",
    "filtered_streets_df = [df_strassen_zh,\n",
    "                    df_strassen_be,\n",
    "                    df_strassen_bs,\n",
    "                    df_strassen_lu,\n",
    "                    df_strassen_ge,\n",
    "                    df_strassen_sg]\n",
    "\n",
    "for frame in filtered_streets_df:\n",
    "    source_list = df_strassen_zh[\"Strassennamen\"].tolist()\n",
    "    for strasse in source_list:\n",
    "        list_strassen.append(strasse)"
   ]
  },
  {
   "cell_type": "code",
   "execution_count": 229,
   "id": "electric-quantum",
   "metadata": {},
   "outputs": [],
   "source": [
    "liste_vornamen = []\n",
    "\n",
    "liste_nachnamen = df_nachnamen[\"Nachname\"].tolist()\n",
    "list_frau_vornamen = df_vornamen_frauen[\"Vorname\"].tolist()\n",
    "list_mann_vornamen = df_vornamen_männer[\"Vorname\"].tolist()\n",
    "\n",
    "for vorname in list_frau_vornamen:\n",
    "    liste_vornamen.append(vorname)\n",
    "    \n",
    "for vorname in list_mann_vornamen:\n",
    "    liste_vornamen.append(vorname)\n",
    "\n",
    "# shuffles the names\n",
    "random.shuffle(liste_vornamen)\n",
    "random.shuffle(liste_nachnamen)\n",
    "\n",
    "len_vornamen = len(liste_vornamen)\n",
    "len_nachnamen = len(liste_nachnamen)"
   ]
  },
  {
   "cell_type": "code",
   "execution_count": 230,
   "id": "obvious-folder",
   "metadata": {},
   "outputs": [],
   "source": [
    "# copies the dataframe to keep all the data inside (later shuffling will take place)\n",
    "df_raw_source = pd.concat([df_filtered_geodata]*repeater, ignore_index=True)"
   ]
  },
  {
   "cell_type": "code",
   "execution_count": 231,
   "id": "nearby-router",
   "metadata": {},
   "outputs": [
    {
     "name": "stdout",
     "output_type": "stream",
     "text": [
      "Der Dataframe hat nun:  999999 Zeilen\n",
      "Wir haben:  12864 Strassennamen\n",
      "Vornamen:  1997\n",
      "Nachnamen:  22571\n"
     ]
    }
   ],
   "source": [
    "print(\"Der Dataframe hat nun: \", df_raw_source.shape[0], \"Zeilen\")\n",
    "print(\"Wir haben: \", len(list_strassen), \"Strassennamen\")\n",
    "print(\"Vornamen: \", len(liste_vornamen))\n",
    "print(\"Nachnamen: \", len(liste_nachnamen))"
   ]
  },
  {
   "cell_type": "code",
   "execution_count": 232,
   "id": "behind-reputation",
   "metadata": {},
   "outputs": [],
   "source": [
    "# variables for telephone numbers\n",
    "vorwahl = list(range(76,79))# carrier prefix adjust to your liking\n",
    "Hauptnummer = list(range(2500049, 9999999)) # actual phone number range, adjust to your liking"
   ]
  },
  {
   "cell_type": "code",
   "execution_count": 233,
   "id": "valued-eligibility",
   "metadata": {},
   "outputs": [],
   "source": [
    "df_list_vornamen = []\n",
    "df_list_nachnamen = []\n",
    "df_list_strassen = []\n",
    "df_list_hausnummern = []\n",
    "df_list_emaildomains = []\n",
    "df_list_telefonnummer = []\n",
    "\n",
    "length_loop = df_raw_source.shape[0]"
   ]
  },
  {
   "cell_type": "code",
   "execution_count": 234,
   "id": "young-advocacy",
   "metadata": {},
   "outputs": [
    {
     "name": "stdout",
     "output_type": "stream",
     "text": [
      "Länge Vornamen:  999999\n",
      "Länge Nachnamen:  999999\n",
      "Länge Strassen:  999999\n",
      "Länge Hausnummern:  999999\n",
      "Länge Emaildomains:  999999\n",
      "Länge Telefonnummeren:  999999\n"
     ]
    }
   ],
   "source": [
    "#shuffle both first and lastname + streets\n",
    "for datapoint in range(0, length_loop):\n",
    "    df_list_vornamen.append(random.choice(liste_vornamen))\n",
    "    df_list_nachnamen.append(random.choice(liste_nachnamen))\n",
    "    df_list_strassen.append(random.choice(list_strassen))\n",
    "    df_list_hausnummern.append(randrange(street_range))\n",
    "    df_list_emaildomains.append(random.choice(list_emaildomains))\n",
    "    df_list_telefonnummer.append(\"0\" + str(random.choice(vorwahl)) + \"/\" + str(random.choice(Hauptnummer)))\n",
    "    \n",
    "    \n",
    "print(\"Länge Vornamen: \", len(df_list_vornamen))\n",
    "print(\"Länge Nachnamen: \", len(df_list_nachnamen))\n",
    "print(\"Länge Strassen: \", len(df_list_vornamen))\n",
    "print(\"Länge Hausnummern: \", len(df_list_vornamen))\n",
    "print(\"Länge Emaildomains: \", len(df_list_emaildomains))\n",
    "print(\"Länge Telefonnummeren: \", len(df_list_telefonnummer))"
   ]
  },
  {
   "cell_type": "code",
   "execution_count": 235,
   "id": "considerable-first",
   "metadata": {},
   "outputs": [],
   "source": [
    "outputframe = df_raw_source.copy()\n",
    "outputframe[\"Vorname\"] = df_list_vornamen\n",
    "outputframe[\"Nachname\"] = df_list_nachnamen\n",
    "outputframe[\"Strasse\"] = df_list_strassen\n",
    "outputframe[\"Hausnummer\"] = df_list_hausnummern\n",
    "outputframe[\"EmailDOmains\"] = df_list_emaildomains\n",
    "outputframe[\"Telefonnummer\"] = df_list_telefonnummer"
   ]
  },
  {
   "cell_type": "code",
   "execution_count": 236,
   "id": "coordinate-withdrawal",
   "metadata": {},
   "outputs": [],
   "source": [
    "# creates the email adresses with random maildomains\n",
    "outputframe[\"Email\"] = outputframe[\"Vorname\"] + \".\" + outputframe[\"Nachname\"] + \"@\" + outputframe[\"EmailDOmains\"] \n",
    "del outputframe[\"EmailDOmains\"]"
   ]
  },
  {
   "cell_type": "code",
   "execution_count": 237,
   "id": "tender-investment",
   "metadata": {},
   "outputs": [],
   "source": [
    "outputframe.drop_duplicates() #removes duplicates that might be eventually be created (even if unlikely)\n",
    "outputframe = outputframe.sample(frac=1).reset_index(drop=True)"
   ]
  },
  {
   "cell_type": "code",
   "execution_count": 238,
   "id": "palestinian-maintenance",
   "metadata": {},
   "outputs": [
    {
     "name": "stdout",
     "output_type": "stream",
     "text": [
      "Tabelle hat nun:999999 Zeilen\n"
     ]
    }
   ],
   "source": [
    "print(\"Tabelle hat nun:{} Zeilen\".format(outputframe.shape[0]))"
   ]
  },
  {
   "cell_type": "code",
   "execution_count": 239,
   "id": "floppy-teacher",
   "metadata": {},
   "outputs": [
    {
     "data": {
      "text/html": [
       "<div>\n",
       "<style scoped>\n",
       "    .dataframe tbody tr th:only-of-type {\n",
       "        vertical-align: middle;\n",
       "    }\n",
       "\n",
       "    .dataframe tbody tr th {\n",
       "        vertical-align: top;\n",
       "    }\n",
       "\n",
       "    .dataframe thead th {\n",
       "        text-align: right;\n",
       "    }\n",
       "</style>\n",
       "<table border=\"1\" class=\"dataframe\">\n",
       "  <thead>\n",
       "    <tr style=\"text-align: right;\">\n",
       "      <th></th>\n",
       "      <th>Ort</th>\n",
       "      <th>PLZ</th>\n",
       "      <th>Gemeindename</th>\n",
       "      <th>Kanton</th>\n",
       "      <th>Sprache</th>\n",
       "      <th>Vorname</th>\n",
       "      <th>Nachname</th>\n",
       "      <th>Strasse</th>\n",
       "      <th>Hausnummer</th>\n",
       "      <th>Telefonnummer</th>\n",
       "      <th>Email</th>\n",
       "    </tr>\n",
       "  </thead>\n",
       "  <tbody>\n",
       "    <tr>\n",
       "      <th>0</th>\n",
       "      <td>Genève</td>\n",
       "      <td>1203</td>\n",
       "      <td>Genève</td>\n",
       "      <td>GE</td>\n",
       "      <td>fr</td>\n",
       "      <td>Aleksandra</td>\n",
       "      <td>Christen</td>\n",
       "      <td>Eglistrasse</td>\n",
       "      <td>25</td>\n",
       "      <td>076/9242513</td>\n",
       "      <td>Aleksandra.Christen@bluewin.ch</td>\n",
       "    </tr>\n",
       "    <tr>\n",
       "      <th>1</th>\n",
       "      <td>Genève</td>\n",
       "      <td>1207</td>\n",
       "      <td>Genève</td>\n",
       "      <td>GE</td>\n",
       "      <td>fr</td>\n",
       "      <td>Fritz</td>\n",
       "      <td>Schwarz</td>\n",
       "      <td>Hohensteinweg</td>\n",
       "      <td>27</td>\n",
       "      <td>078/2669956</td>\n",
       "      <td>Fritz.Schwarz@yahoo.de</td>\n",
       "    </tr>\n",
       "    <tr>\n",
       "      <th>2</th>\n",
       "      <td>Zürich</td>\n",
       "      <td>8046</td>\n",
       "      <td>Zürich</td>\n",
       "      <td>ZH</td>\n",
       "      <td>de</td>\n",
       "      <td>Eduardo</td>\n",
       "      <td>Liechti</td>\n",
       "      <td>Frechenmätteliweg</td>\n",
       "      <td>168</td>\n",
       "      <td>076/8361609</td>\n",
       "      <td>Eduardo.Liechti@ntlworld.com</td>\n",
       "    </tr>\n",
       "    <tr>\n",
       "      <th>3</th>\n",
       "      <td>Luzern</td>\n",
       "      <td>6003</td>\n",
       "      <td>Luzern</td>\n",
       "      <td>LU</td>\n",
       "      <td>de</td>\n",
       "      <td>Dagmar</td>\n",
       "      <td>Weilenmann</td>\n",
       "      <td>Müseliweg</td>\n",
       "      <td>116</td>\n",
       "      <td>076/4923822</td>\n",
       "      <td>Dagmar.Weilenmann@live.ca</td>\n",
       "    </tr>\n",
       "    <tr>\n",
       "      <th>4</th>\n",
       "      <td>Genève</td>\n",
       "      <td>1204</td>\n",
       "      <td>Genève</td>\n",
       "      <td>GE</td>\n",
       "      <td>fr</td>\n",
       "      <td>Alfred</td>\n",
       "      <td>Reimann</td>\n",
       "      <td>Käshaldenstrasse</td>\n",
       "      <td>52</td>\n",
       "      <td>078/6675013</td>\n",
       "      <td>Alfred.Reimann@hotmail.co.uk</td>\n",
       "    </tr>\n",
       "    <tr>\n",
       "      <th>...</th>\n",
       "      <td>...</td>\n",
       "      <td>...</td>\n",
       "      <td>...</td>\n",
       "      <td>...</td>\n",
       "      <td>...</td>\n",
       "      <td>...</td>\n",
       "      <td>...</td>\n",
       "      <td>...</td>\n",
       "      <td>...</td>\n",
       "      <td>...</td>\n",
       "      <td>...</td>\n",
       "    </tr>\n",
       "    <tr>\n",
       "      <th>95</th>\n",
       "      <td>Genève</td>\n",
       "      <td>1207</td>\n",
       "      <td>Genève</td>\n",
       "      <td>GE</td>\n",
       "      <td>fr</td>\n",
       "      <td>Tomasz</td>\n",
       "      <td>Gysin</td>\n",
       "      <td>Oetenbacherholzstrasse</td>\n",
       "      <td>116</td>\n",
       "      <td>077/9496279</td>\n",
       "      <td>Tomasz.Gysin@juno.com</td>\n",
       "    </tr>\n",
       "    <tr>\n",
       "      <th>96</th>\n",
       "      <td>Luzern</td>\n",
       "      <td>6004</td>\n",
       "      <td>Luzern</td>\n",
       "      <td>LU</td>\n",
       "      <td>de</td>\n",
       "      <td>Mariangela</td>\n",
       "      <td>Krüger</td>\n",
       "      <td>Ceresstrasse</td>\n",
       "      <td>18</td>\n",
       "      <td>078/5169292</td>\n",
       "      <td>Mariangela.Krüger@yahoo.es</td>\n",
       "    </tr>\n",
       "    <tr>\n",
       "      <th>97</th>\n",
       "      <td>Bern</td>\n",
       "      <td>3013</td>\n",
       "      <td>Bern</td>\n",
       "      <td>BE</td>\n",
       "      <td>de</td>\n",
       "      <td>Adnan</td>\n",
       "      <td>Lin</td>\n",
       "      <td>Flurstrasse</td>\n",
       "      <td>36</td>\n",
       "      <td>076/4359624</td>\n",
       "      <td>Adnan.Lin@bellsouth.net</td>\n",
       "    </tr>\n",
       "    <tr>\n",
       "      <th>98</th>\n",
       "      <td>Bern</td>\n",
       "      <td>3027</td>\n",
       "      <td>Bern</td>\n",
       "      <td>BE</td>\n",
       "      <td>de</td>\n",
       "      <td>Agron</td>\n",
       "      <td>Rösch</td>\n",
       "      <td>Traugottstrasse</td>\n",
       "      <td>25</td>\n",
       "      <td>078/7602297</td>\n",
       "      <td>Agron.Rösch@sbcglobal.net</td>\n",
       "    </tr>\n",
       "    <tr>\n",
       "      <th>99</th>\n",
       "      <td>Luzern</td>\n",
       "      <td>6006</td>\n",
       "      <td>Luzern</td>\n",
       "      <td>LU</td>\n",
       "      <td>de</td>\n",
       "      <td>Tomás</td>\n",
       "      <td>Böhm</td>\n",
       "      <td>Gärtnerstrasse</td>\n",
       "      <td>172</td>\n",
       "      <td>076/9801007</td>\n",
       "      <td>Tomás.Böhm@charter.net</td>\n",
       "    </tr>\n",
       "  </tbody>\n",
       "</table>\n",
       "<p>100 rows × 11 columns</p>\n",
       "</div>"
      ],
      "text/plain": [
       "       Ort   PLZ Gemeindename Kanton Sprache     Vorname    Nachname  \\\n",
       "0   Genève  1203       Genève     GE      fr  Aleksandra    Christen   \n",
       "1   Genève  1207       Genève     GE      fr       Fritz     Schwarz   \n",
       "2   Zürich  8046       Zürich     ZH      de     Eduardo     Liechti   \n",
       "3   Luzern  6003       Luzern     LU      de      Dagmar  Weilenmann   \n",
       "4   Genève  1204       Genève     GE      fr      Alfred     Reimann   \n",
       "..     ...   ...          ...    ...     ...         ...         ...   \n",
       "95  Genève  1207       Genève     GE      fr      Tomasz       Gysin   \n",
       "96  Luzern  6004       Luzern     LU      de  Mariangela      Krüger   \n",
       "97    Bern  3013         Bern     BE      de       Adnan         Lin   \n",
       "98    Bern  3027         Bern     BE      de       Agron       Rösch   \n",
       "99  Luzern  6006       Luzern     LU      de       Tomás        Böhm   \n",
       "\n",
       "                   Strasse  Hausnummer Telefonnummer  \\\n",
       "0              Eglistrasse          25   076/9242513   \n",
       "1            Hohensteinweg          27   078/2669956   \n",
       "2        Frechenmätteliweg         168   076/8361609   \n",
       "3                Müseliweg         116   076/4923822   \n",
       "4         Käshaldenstrasse          52   078/6675013   \n",
       "..                     ...         ...           ...   \n",
       "95  Oetenbacherholzstrasse         116   077/9496279   \n",
       "96            Ceresstrasse          18   078/5169292   \n",
       "97             Flurstrasse          36   076/4359624   \n",
       "98         Traugottstrasse          25   078/7602297   \n",
       "99          Gärtnerstrasse         172   076/9801007   \n",
       "\n",
       "                             Email  \n",
       "0   Aleksandra.Christen@bluewin.ch  \n",
       "1           Fritz.Schwarz@yahoo.de  \n",
       "2     Eduardo.Liechti@ntlworld.com  \n",
       "3        Dagmar.Weilenmann@live.ca  \n",
       "4     Alfred.Reimann@hotmail.co.uk  \n",
       "..                             ...  \n",
       "95           Tomasz.Gysin@juno.com  \n",
       "96      Mariangela.Krüger@yahoo.es  \n",
       "97         Adnan.Lin@bellsouth.net  \n",
       "98       Agron.Rösch@sbcglobal.net  \n",
       "99          Tomás.Böhm@charter.net  \n",
       "\n",
       "[100 rows x 11 columns]"
      ]
     },
     "execution_count": 239,
     "metadata": {},
     "output_type": "execute_result"
    }
   ],
   "source": [
    "outputframe.head(100)"
   ]
  },
  {
   "cell_type": "code",
   "execution_count": 240,
   "id": "occupational-darwin",
   "metadata": {},
   "outputs": [],
   "source": [
    "# remove if you want a CSV Export\n",
    "# outputframe.to_csv(\"Sample_data_leads.csv\", sep=',', encoding='utf-8', index = False)"
   ]
  }
 ],
 "metadata": {
  "kernelspec": {
   "display_name": "Python 3",
   "language": "python",
   "name": "python3"
  },
  "language_info": {
   "codemirror_mode": {
    "name": "ipython",
    "version": 3
   },
   "file_extension": ".py",
   "mimetype": "text/x-python",
   "name": "python",
   "nbconvert_exporter": "python",
   "pygments_lexer": "ipython3",
   "version": "3.8.5"
  }
 },
 "nbformat": 4,
 "nbformat_minor": 5
}
